{
 "cells": [
  {
   "cell_type": "code",
   "execution_count": 5,
   "metadata": {
    "collapsed": true
   },
   "outputs": [],
   "source": [
    "# Linear reg -> model that best fits\n",
    "# Classification -> model that best divides \n",
    "# Clustering -> model that best groups\n",
    "\n",
    "# more dimensions\n",
    "# KNN closer + and -s \n",
    "# K odd number to decide class \n",
    "# odd vote\n",
    "# can predict degree of confidence\n",
    "# EUCLIDEAN DISTANCE=> worse with more data \n",
    "# not training anything\n",
    "# svm is better for classification\n"
   ]
  },
  {
   "cell_type": "code",
   "execution_count": 6,
   "metadata": {
    "collapsed": false
   },
   "outputs": [],
   "source": [
    "from sklearn import cross_validation, preprocessing, neighbors, svm\n",
    "import pandas as pd\n",
    "import numpy as np\n"
   ]
  },
  {
   "cell_type": "code",
   "execution_count": 11,
   "metadata": {
    "collapsed": true
   },
   "outputs": [],
   "source": [
    "# Using WISCONSIN Breast Cancer Data Set \n",
    "\n",
    "# id,clump_thickness,size_uni,shape_uni,marg_adhesion,epith_size,bare_nucleoli,bland_chrom,normal_nucleoli,mitoses,class\n",
    "df = pd.read_csv(\"breast-cancer-wisconsin.data\")\n",
    "\n",
    "# replace missing data as outlier\n",
    "df.replace('?', -99999, inplace = True)\n",
    "\n",
    "# remove non-relavent features\n",
    "df.drop(['id'], 1, inplace=True)\n",
    "\n",
    "# features\n",
    "X = np.array(df.drop(['class'],1))\n",
    "# labels ( benign (2) or malignant(4) )\n",
    "y = np.array(df['class'])\n"
   ]
  },
  {
   "cell_type": "code",
   "execution_count": 12,
   "metadata": {
    "collapsed": false
   },
   "outputs": [
    {
     "name": "stdout",
     "output_type": "stream",
     "text": [
      "0.971428571429\n"
     ]
    }
   ],
   "source": [
    "# split data\n",
    "X_train , X_test, y_train, y_test = cross_validation.train_test_split(X, y, test_size = 0.2)\n",
    "\n",
    "# declare classifier\n",
    "# we can save using pickling\n",
    "# testing svm clf = svm.SVC()\n",
    "clf = neighbors.KNeighborsClassifier()\n",
    "\n",
    "# fit data\n",
    "clf.fit( X_train, y_train)\n",
    "\n",
    "# test data\n",
    "accuracy = clf.score(X_test, y_test)\n",
    "print(accuracy)\n"
   ]
  },
  {
   "cell_type": "code",
   "execution_count": 4,
   "metadata": {
    "collapsed": false
   },
   "outputs": [
    {
     "name": "stdout",
     "output_type": "stream",
     "text": [
      "[2 4]\n"
     ]
    }
   ],
   "source": [
    "# PREDICT\n",
    "\n",
    "# creating samples with values for features\n",
    "example_measures = np.array([ [1,1,4,4,4,1,1,1,1], [4,10,4,4,4,1,1,4,1] ])\n",
    "\n",
    "# reshaping the data\n",
    "example_measures = example_measures.reshape( len(example_measures),-1)\n",
    "\n",
    "prediction = clf.predict(example_measures)\n",
    "print(prediction)\n"
   ]
  },
  {
   "cell_type": "code",
   "execution_count": null,
   "metadata": {
    "collapsed": true
   },
   "outputs": [],
   "source": []
  }
 ],
 "metadata": {
  "kernelspec": {
   "display_name": "Python 2",
   "language": "python",
   "name": "python2"
  },
  "language_info": {
   "codemirror_mode": {
    "name": "ipython",
    "version": 2
   },
   "file_extension": ".py",
   "mimetype": "text/x-python",
   "name": "python",
   "nbconvert_exporter": "python",
   "pygments_lexer": "ipython2",
   "version": "2.7.6"
  }
 },
 "nbformat": 4,
 "nbformat_minor": 1
}
