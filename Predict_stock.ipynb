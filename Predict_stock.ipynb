{
 "cells": [
  {
   "cell_type": "code",
   "execution_count": 22,
   "metadata": {
    "collapsed": false
   },
   "outputs": [],
   "source": [
    "import pandas as pd\n",
    "import quandl\n",
    "import math , datetime, time\n",
    "import matplotlib.pyplot as plt\n",
    "from matplotlib import style\n",
    "import numpy as np\n",
    "from sklearn import preprocessing, cross_validation, svm \n",
    "from sklearn.linear_model import LinearRegression\n",
    "import pickle\n",
    "style.use('ggplot')"
   ]
  },
  {
   "cell_type": "markdown",
   "metadata": {},
   "source": [
    "## Alright let's begin \n",
    "\n",
    "This Jupyter notebook helps predict the stock prices one month in advance! "
   ]
  },
  {
   "cell_type": "code",
   "execution_count": 5,
   "metadata": {
    "collapsed": false
   },
   "outputs": [
    {
     "name": "stdout",
     "output_type": "stream",
     "text": [
      "            Adj. Close    HL_PCT  PCT_change  Adj. Volume      label\n",
      "Date                                                                \n",
      "2004-08-19   50.322842  8.441017    0.324968   44659000.0  67.739104\n",
      "2004-08-20   54.322689  8.537313    7.227007   22834300.0  69.399229\n",
      "2004-08-23   54.869377  4.062357   -1.227880   18256100.0  68.752232\n",
      "2004-08-24   52.597363  7.753210   -5.726357   15247300.0  69.639972\n",
      "2004-08-25   53.164113  3.966115    1.183658    9188600.0  69.078238\n"
     ]
    }
   ],
   "source": [
    "# figure out a best fit line\n",
    "stockticker  = 'WIKI/GOOGL'\n",
    "df = quandl.get(stockticker)\n",
    "\n",
    "# features available\n",
    "# 'Open', 'High', 'Low', 'Close', 'Volume', 'Ex-Dividend', 'Split Ratio', 'Adj. Open', 'Adj. High', 'Adj. Low', 'Adj. Close', 'Adj. Volume']\n",
    "\n",
    "#grab relavent features\n",
    "df = df[['Adj. Open', 'Adj. High','Adj. Low', 'Adj. Close', 'Adj. Volume',]]\n",
    "\n",
    "# Make new coloumn High - Low %\n",
    "df['HL_PCT'] = (df['Adj. High'] - df['Adj. Low']) / df['Adj. Low'] * 100\n",
    "\n",
    "# Make new coloumn Close - Open %\n",
    "df['PCT_change'] = ( df['Adj. Close'] - df['Adj. Open'])/ df['Adj. Open'] * 100\n",
    "\n",
    "# Choose more relavent updated features\n",
    "df = df[['Adj. Close', 'HL_PCT', 'PCT_change', 'Adj. Volume']]\n",
    "\n",
    "# Create coloumn for future prediction\n",
    "forecast_col = 'Adj. Close'\n",
    "\n",
    "# treats as outlier if data not present; inplace allows to edit there itself \n",
    "df.fillna(-99999, inplace=True)\n",
    "\n",
    "#predict 1% of the len(dataframe) out into future\n",
    "forecast_out = int(math.ceil(0.01 * len(df)))\n",
    "\n",
    "#forecast the Adj. Close price 10% length into the future to train\n",
    "df['label'] = df[forecast_col].shift(-forecast_out)\n",
    "\n",
    "print(df.head())"
   ]
  },
  {
   "cell_type": "code",
   "execution_count": 75,
   "metadata": {
    "collapsed": false
   },
   "outputs": [
    {
     "name": "stdout",
     "output_type": "stream",
     "text": [
      "            Adj. Close    HL_PCT  PCT_change  Adj. Volume  label\n",
      "Date                                                            \n",
      "2016-09-02      796.87  0.484078    0.201190    1346589.0    NaN\n",
      "2016-09-06      808.02  1.943603    1.206177    1963804.0    NaN\n",
      "2016-09-07      807.99  0.856020    0.007426    1144517.0    NaN\n",
      "2016-09-08      802.84  0.925069   -0.295571    1132390.0    NaN\n",
      "2016-09-09      788.48  1.738468   -1.288231    1835378.0    NaN\n"
     ]
    }
   ],
   "source": [
    "print(df.tail())"
   ]
  },
  {
   "cell_type": "code",
   "execution_count": 6,
   "metadata": {
    "collapsed": false
   },
   "outputs": [
    {
     "name": "stdout",
     "output_type": "stream",
     "text": [
      "(3006, 3006)\n"
     ]
    }
   ],
   "source": [
    "# TO TRAIN\n",
    "# select features (INPUTS)\n",
    "# df.drop returns new array without label; 1 signifies droppping coloumn\n",
    "X = np.array((df.drop(['label'],1)))\n",
    "\n",
    "# SCALE\n",
    "#X = preprocessing.scale(X)\n",
    "\n",
    "# Consider only Xs that have Ys ie upto len(df) - forecast_out\n",
    "# Last 30 days without y values \n",
    "X_lately = X[-forecast_out: ]\n",
    "X = X[:-forecast_out]\n",
    "\n",
    "\n",
    "df.dropna(inplace=True)\n",
    "\n",
    "# TARGET to train against (y)\n",
    "y = np.array(df['label'])\n",
    "\n",
    "print(len(X), len(y))"
   ]
  },
  {
   "cell_type": "code",
   "execution_count": 24,
   "metadata": {
    "collapsed": false,
    "scrolled": true
   },
   "outputs": [
    {
     "name": "stdout",
     "output_type": "stream",
     "text": [
      "0.966898936197\n"
     ]
    }
   ],
   "source": [
    "# SPLIT the data to training and testing data\n",
    "X_train, X_test, y_train, y_test = cross_validation.train_test_split(X, y, test_size=0.2)\n",
    "\n",
    "# Classifier is LINEAR REGRESSION\n",
    "# thread to run max no of jobs \n",
    "clf = LinearRegression(n_jobs = -1)\n",
    "\n",
    "# TRAIN!\n",
    "clf.fit(X_train, y_train)\n",
    "\n",
    "with open('linearregression.pickle','wb') as f:\n",
    "    pickle.dump( clf, f)\n",
    "\n",
    "pickle_in = open('linearregression.pickle', 'rb')\n",
    "clf = pickle.load(pickle_in)\n",
    "\n",
    "# TEST!\n",
    "accuracy = clf.score(X_test, y_test)\n",
    "\n",
    "print(accuracy)\n"
   ]
  },
  {
   "cell_type": "code",
   "execution_count": 25,
   "metadata": {
    "collapsed": false
   },
   "outputs": [
    {
     "name": "stdout",
     "output_type": "stream",
     "text": [
      "(array([ 773.0012641 ,  797.34759197,  805.77475213,  807.8202184 ,\n",
      "        807.00737507,  805.60082866,  814.30881941,  813.52679284,\n",
      "        815.04569843,  817.040553  ,  816.20307202,  815.72818191,\n",
      "        814.15462634,  809.40501275,  813.10533727,  811.16307994,\n",
      "        808.23696826,  805.58851753,  805.26067299,  801.74660254,\n",
      "        799.45768566,  800.93953527,  803.90212538,  799.93870336,\n",
      "        798.3532098 ,  799.6610681 ,  805.43360497,  814.36349071,\n",
      "        816.13068356,  811.00144763,  795.7410742 ]), 0.96689893619676648, 31)\n"
     ]
    }
   ],
   "source": [
    "forecast_set = clf.predict(X_lately)\n",
    "#important\n",
    "print(forecast_set, accuracy, forecast_out)"
   ]
  },
  {
   "cell_type": "code",
   "execution_count": 26,
   "metadata": {
    "collapsed": false
   },
   "outputs": [
    {
     "data": {
      "image/png": "[encoded data removed]",
      "text/plain": [
       "<matplotlib.figure.Figure at 0x7f7a351f1410>"
      ]
     },
     "metadata": {},
     "output_type": "display_data"
    }
   ],
   "source": [
    "df['Forecast'] = np.nan\n",
    "\n",
    "last_date = df.iloc[-1].name\n",
    "last_unix = time.mktime(last_date.timetuple())\n",
    "one_day = 86400\n",
    "next_unix = last_unix + one_day\n",
    "\n",
    "for i in forecast_set:\n",
    "    next_date = datetime.datetime.fromtimestamp(next_unix)\n",
    "    next_unix += one_day\n",
    "    df.loc[next_date] = [np.nan for _ in range( len(df.columns) -1 )] + [i]\n",
    "    \n",
    "df['Adj. Close'].plot()\n",
    "df['Forecast'].plot()\n",
    "plt.legend(loc = 4)\n",
    "plt.xlabel('Date')\n",
    "plt.ylabel('Price')\n",
    "plt.show()"
   ]
  },
  {
   "cell_type": "code",
   "execution_count": null,
   "metadata": {
    "collapsed": true
   },
   "outputs": [],
   "source": []
  }
 ],
 "metadata": {
  "kernelspec": {
   "display_name": "Python 2",
   "language": "python",
   "name": "python2"
  },
  "language_info": {
   "codemirror_mode": {
    "name": "ipython",
    "version": 2
   },
   "file_extension": ".py",
   "mimetype": "text/x-python",
   "name": "python",
   "nbconvert_exporter": "python",
   "pygments_lexer": "ipython2",
   "version": "2.7.6"
  }
 },
 "nbformat": 4,
 "nbformat_minor": 0
}
